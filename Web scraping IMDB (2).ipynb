{
 "cells": [
  {
   "cell_type": "markdown",
   "id": "5da0a96b",
   "metadata": {},
   "source": [
    "# BEST RATED IMDB MOVIES (TOP 250)"
   ]
  },
  {
   "cell_type": "code",
   "execution_count": 42,
   "id": "3540d342",
   "metadata": {},
   "outputs": [],
   "source": [
    "from bs4 import BeautifulSoup\n",
    "import requests\n",
    "import openpyxl\n",
    "import pandas as pd"
   ]
  },
  {
   "cell_type": "code",
   "execution_count": 43,
   "id": "3c3e606f",
   "metadata": {},
   "outputs": [],
   "source": [
    "URL=(\"https://www.imdb.com/chart/top/\")"
   ]
  },
  {
   "cell_type": "code",
   "execution_count": 44,
   "id": "cc2712b7",
   "metadata": {},
   "outputs": [],
   "source": [
    "HEADERS=({'User-Agent':'Mozilla/5.0 (Windows NT 10.0; Win64; x64) AppleWebKit/537.36 (KHTML, like Gecko) Chrome/115.0.0.0 Safari/537.36','Accept-Language':'en-US,en;q=0.5'})"
   ]
  },
  {
   "cell_type": "code",
   "execution_count": 45,
   "id": "6d7c9cae",
   "metadata": {},
   "outputs": [],
   "source": [
    "webpage=requests.get(URL, headers=HEADERS)"
   ]
  },
  {
   "cell_type": "code",
   "execution_count": 46,
   "id": "3bac1f08",
   "metadata": {},
   "outputs": [
    {
     "data": {
      "text/plain": [
       "<Response [200]>"
      ]
     },
     "execution_count": 46,
     "metadata": {},
     "output_type": "execute_result"
    }
   ],
   "source": [
    "webpage"
   ]
  },
  {
   "cell_type": "code",
   "execution_count": 69,
   "id": "51955780",
   "metadata": {},
   "outputs": [],
   "source": [
    "soup=BeautifulSoup(webpage.text,\"html.parser\")\n",
    "#print(soup)"
   ]
  },
  {
   "cell_type": "code",
   "execution_count": 48,
   "id": "fe2471b5",
   "metadata": {},
   "outputs": [],
   "source": [
    "movies=soup.find('ul',class_='ipc-metadata-list ipc-metadata-list--dividers-between sc-3a353071-0 wTPeg compact-list-view ipc-metadata-list--base')"
   ]
  },
  {
   "cell_type": "code",
   "execution_count": 70,
   "id": "4864ef6c",
   "metadata": {},
   "outputs": [],
   "source": [
    "#print(movies)"
   ]
  },
  {
   "cell_type": "code",
   "execution_count": 49,
   "id": "db0d9e48",
   "metadata": {},
   "outputs": [],
   "source": [
    "movies=soup.find('ul',class_='ipc-metadata-list ipc-metadata-list--dividers-between sc-3a353071-0 wTPeg compact-list-view ipc-metadata-list--base').find_all('li')"
   ]
  },
  {
   "cell_type": "code",
   "execution_count": 50,
   "id": "699366ff",
   "metadata": {},
   "outputs": [
    {
     "name": "stdout",
     "output_type": "stream",
     "text": [
      "250\n"
     ]
    }
   ],
   "source": [
    "#To check the total number of values that I should have in the end\n",
    "\n",
    "print(len(movies))"
   ]
  },
  {
   "cell_type": "code",
   "execution_count": 51,
   "id": "8156700e",
   "metadata": {},
   "outputs": [
    {
     "name": "stdout",
     "output_type": "stream",
     "text": [
      "1. The Shawshank Redemption\n"
     ]
    }
   ],
   "source": [
    "#Creating a loop that will iterate each and every value I want returned\n",
    "\n",
    "for movie in movies:\n",
    "    name=movie.find('h3',class_='ipc-title__text').text\n",
    "    print (name)\n",
    "    break"
   ]
  },
  {
   "cell_type": "code",
   "execution_count": 52,
   "id": "e6388054",
   "metadata": {},
   "outputs": [
    {
     "name": "stdout",
     "output_type": "stream",
     "text": [
      "1. The Shawshank Redemption 1994 9.3\n"
     ]
    }
   ],
   "source": [
    "#Creating a loop that will iterate each and every value I want returned\n",
    "#For the first Rank\n",
    "\n",
    "for movie in movies:\n",
    "    \n",
    "    name=movie.find('h3',class_='ipc-title__text').text\n",
    "    \n",
    "    year=movie.find('span',class_='sc-14dd939d-6 kHVqMR cli-title-metadata-item').text\n",
    "        \n",
    "    rating=movie.find('span',class_='ipc-rating-star ipc-rating-star--base ipc-rating-star--imdb ratingGroup--imdb-rating').text\n",
    "    \n",
    "    print (name, year, rating)\n",
    "    \n",
    "    break"
   ]
  },
  {
   "cell_type": "code",
   "execution_count": 68,
   "id": "126575e0",
   "metadata": {},
   "outputs": [
    {
     "name": "stdout",
     "output_type": "stream",
     "text": [
      "1. The Shawshank Redemption 1994 9.3\n",
      "2. The Godfather 1972 9.2\n",
      "3. The Dark Knight 2008 9.0\n",
      "4. The Godfather Part II 1974 9.0\n",
      "5. 12 Angry Men 1957 9.0\n",
      "6. Schindler's List 1993 9.0\n",
      "7. The Lord of the Rings: The Return of the King 2003 9.0\n",
      "8. Pulp Fiction 1994 8.9\n",
      "9. The Lord of the Rings: The Fellowship of the Ring 2001 8.8\n",
      "10. The Good, the Bad and the Ugly 1966 8.8\n",
      "11. Forrest Gump 1994 8.8\n",
      "12. Fight Club 1999 8.8\n",
      "13. The Lord of the Rings: The Two Towers 2002 8.8\n",
      "14. Inception 2010 8.8\n",
      "15. Star Wars: Episode V - The Empire Strikes Back 1980 8.7\n",
      "16. Spider-Man: Across the Spider-Verse 2023 8.8\n",
      "17. The Matrix 1999 8.7\n",
      "18. Goodfellas 1990 8.7\n",
      "19. One Flew Over the Cuckoo's Nest 1975 8.7\n",
      "20. Se7en 1995 8.6\n",
      "21. It's a Wonderful Life 1946 8.6\n",
      "22. Seven Samurai 1954 8.6\n",
      "23. The Silence of the Lambs 1991 8.6\n",
      "24. Interstellar 2014 8.7\n",
      "25. Saving Private Ryan 1998 8.6\n",
      "26. City of God 2002 8.6\n",
      "27. Life Is Beautiful 1997 8.6\n",
      "28. The Green Mile 1999 8.6\n",
      "29. Star Wars: Episode IV - A New Hope 1977 8.6\n",
      "30. Terminator 2: Judgment Day 1991 8.6\n",
      "31. Back to the Future 1985 8.5\n",
      "32. Oppenheimer 2023 8.6\n",
      "33. Spirited Away 2001 8.6\n",
      "34. The Pianist 2002 8.5\n",
      "35. Psycho 1960 8.5\n",
      "36. Parasite 2019 8.5\n",
      "37. Gladiator 2000 8.5\n",
      "38. The Lion King 1994 8.5\n",
      "39. Léon: The Professional 1994 8.5\n",
      "40. American History X 1998 8.5\n",
      "41. The Departed 2006 8.5\n",
      "42. Whiplash 2014 8.5\n",
      "43. The Prestige 2006 8.5\n",
      "44. The Usual Suspects 1995 8.5\n",
      "45. Grave of the Fireflies 1988 8.5\n",
      "46. Casablanca 1942 8.5\n",
      "47. Harakiri 1962 8.6\n",
      "48. The Intouchables 2011 8.5\n",
      "49. Modern Times 1936 8.5\n",
      "50. Cinema Paradiso 1988 8.5\n",
      "51. Once Upon a Time in the West 1968 8.5\n",
      "52. Rear Window 1954 8.5\n",
      "53. Alien 1979 8.5\n",
      "54. City Lights 1931 8.5\n",
      "55. Apocalypse Now 1979 8.4\n",
      "56. Memento 2000 8.4\n",
      "57. Django Unchained 2012 8.4\n",
      "58. Indiana Jones and the Raiders of the Lost Ark 1981 8.4\n",
      "59. WALL·E 2008 8.4\n",
      "60. The Lives of Others 2006 8.4\n",
      "61. Sunset Blvd. 1950 8.4\n",
      "62. Paths of Glory 1957 8.4\n",
      "63. Avengers: Infinity War 2018 8.4\n",
      "64. The Shining 1980 8.4\n",
      "65. The Great Dictator 1940 8.4\n",
      "66. Witness for the Prosecution 1957 8.4\n",
      "67. Spider-Man: Into the Spider-Verse 2018 8.4\n",
      "68. Aliens 1986 8.4\n",
      "69. American Beauty 1999 8.3\n",
      "70. The Dark Knight Rises 2012 8.4\n",
      "71. Inglourious Basterds 2009 8.3\n",
      "72. Dr. Strangelove or: How I Learned to Stop Worrying and Love the Bomb 1964 8.4\n",
      "73. Oldboy 2003 8.4\n",
      "74. Coco 2017 8.4\n",
      "75. Amadeus 1984 8.4\n",
      "76. Toy Story 1995 8.3\n",
      "77. Braveheart 1995 8.3\n",
      "78. Das Boot 1981 8.4\n",
      "79. Joker 2019 8.4\n",
      "80. Avengers: Endgame 2019 8.4\n",
      "81. Princess Mononoke 1997 8.3\n",
      "82. Good Will Hunting 1997 8.3\n",
      "83. Once Upon a Time in America 1984 8.3\n",
      "84. Your Name. 2016 8.4\n",
      "85. 3 Idiots 2009 8.4\n",
      "86. High and Low 1963 8.4\n",
      "87. Singin' in the Rain 1952 8.3\n",
      "88. Requiem for a Dream 2000 8.3\n",
      "89. Capernaum 2018 8.4\n",
      "90. Toy Story 3 2010 8.3\n",
      "91. Come and See 1985 8.4\n",
      "92. Star Wars: Episode VI - Return of the Jedi 1983 8.3\n",
      "93. Eternal Sunshine of the Spotless Mind 2004 8.3\n",
      "94. 2001: A Space Odyssey 1968 8.3\n",
      "95. The Hunt 2012 8.3\n",
      "96. Reservoir Dogs 1992 8.3\n",
      "97. Ikiru 1952 8.3\n",
      "98. Lawrence of Arabia 1962 8.3\n",
      "99. Citizen Kane 1941 8.3\n",
      "100. M 1931 8.3\n",
      "101. North by Northwest 1959 8.3\n",
      "102. The Apartment 1960 8.3\n",
      "103. Vertigo 1958 8.3\n",
      "104. Amélie 2001 8.3\n",
      "105. Double Indemnity 1944 8.3\n",
      "106. Scarface 1983 8.3\n",
      "107. Full Metal Jacket 1987 8.3\n",
      "108. A Clockwork Orange 1971 8.3\n",
      "109. Incendies 2010 8.3\n",
      "110. Hamilton 2020 8.3\n",
      "111. Heat 1995 8.3\n",
      "112. Up 2009 8.3\n",
      "113. To Kill a Mockingbird 1962 8.3\n",
      "114. The Sting 1973 8.3\n",
      "115. A Separation 2011 8.3\n",
      "116. Indiana Jones and the Last Crusade 1989 8.2\n",
      "117. Metropolis 1927 8.3\n",
      "118. Die Hard 1988 8.2\n",
      "119. L.A. Confidential 1997 8.2\n",
      "120. Bicycle Thieves 1948 8.3\n",
      "121. Snatch 2000 8.2\n",
      "122. Like Stars on Earth 2007 8.3\n",
      "123. Taxi Driver 1976 8.2\n",
      "124. 1917 2019 8.2\n",
      "125. Downfall 2004 8.2\n",
      "126. Dangal 2016 8.3\n",
      "127. Top Gun: Maverick 2022 8.3\n",
      "128. For a Few Dollars More 1965 8.2\n",
      "129. Batman Begins 2005 8.2\n",
      "130. Some Like It Hot 1959 8.2\n",
      "131. The Kid 1921 8.2\n",
      "132. The Wolf of Wall Street 2013 8.2\n",
      "133. The Father 2020 8.2\n",
      "134. Green Book 2018 8.2\n",
      "135. All About Eve 1950 8.2\n",
      "136. Judgment at Nuremberg 1961 8.3\n",
      "137. The Truman Show 1998 8.2\n",
      "138. Ran 1985 8.2\n",
      "139. Casino 1995 8.2\n",
      "140. There Will Be Blood 2007 8.2\n",
      "141. Shutter Island 2010 8.2\n",
      "142. Pan's Labyrinth 2006 8.2\n",
      "143. Unforgiven 1992 8.2\n",
      "144. The Sixth Sense 1999 8.2\n",
      "145. Jurassic Park 1993 8.2\n",
      "146. A Beautiful Mind 2001 8.2\n",
      "147. The Treasure of the Sierra Madre 1948 8.2\n",
      "148. Yojimbo 1961 8.2\n",
      "149. No Country for Old Men 2007 8.2\n",
      "150. Monty Python and the Holy Grail 1975 8.2\n",
      "151. Kill Bill: Vol. 1 2003 8.2\n",
      "152. The Great Escape 1963 8.2\n",
      "153. The Thing 1982 8.2\n",
      "154. Rashomon 1950 8.2\n",
      "155. Finding Nemo 2003 8.2\n",
      "156. The Elephant Man 1980 8.2\n",
      "157. Chinatown 1974 8.2\n",
      "158. Spider-Man: No Way Home 2021 8.2\n",
      "159. V for Vendetta 2005 8.2\n",
      "160. Gone with the Wind 1939 8.2\n",
      "161. Raging Bull 1980 8.1\n",
      "162. Dial M for Murder 1954 8.2\n",
      "163. Howl's Moving Castle 2004 8.2\n",
      "164. Lock, Stock and Two Smoking Barrels 1998 8.1\n",
      "165. The Secret in Their Eyes 2009 8.2\n",
      "166. Inside Out 2015 8.1\n",
      "167. Prisoners 2013 8.1\n",
      "168. Three Billboards Outside Ebbing, Missouri 2017 8.1\n",
      "169. The Bridge on the River Kwai 1957 8.1\n",
      "170. Trainspotting 1996 8.1\n",
      "171. Fargo 1996 8.1\n",
      "172. Warrior 2011 8.1\n",
      "173. Gran Torino 2008 8.1\n",
      "174. Catch Me If You Can 2002 8.1\n",
      "175. My Neighbor Totoro 1988 8.1\n",
      "176. Million Dollar Baby 2004 8.1\n",
      "177. Klaus 2019 8.2\n",
      "178. Children of Heaven 1997 8.2\n",
      "179. Harry Potter and the Deathly Hallows: Part 2 2011 8.1\n",
      "180. Blade Runner 1982 8.1\n",
      "181. 12 Years a Slave 2013 8.1\n",
      "182. Before Sunrise 1995 8.1\n",
      "183. The Gold Rush 1925 8.1\n",
      "184. The Grand Budapest Hotel 2014 8.1\n",
      "185. Ben-Hur 1959 8.1\n",
      "186. Gone Girl 2014 8.1\n",
      "187. On the Waterfront 1954 8.1\n",
      "188. Barry Lyndon 1975 8.1\n",
      "189. Hacksaw Ridge 2016 8.1\n",
      "190. In the Name of the Father 1993 8.1\n",
      "191. The General 1926 8.1\n",
      "192. The Deer Hunter 1978 8.1\n",
      "193. Wild Strawberries 1957 8.1\n",
      "194. Memories of Murder 2003 8.1\n",
      "195. The Third Man 1949 8.1\n",
      "196. The Wages of Fear 1953 8.2\n",
      "197. Wild Tales 2014 8.1\n",
      "198. Sherlock Jr. 1924 8.2\n",
      "199. Mad Max: Fury Road 2015 8.1\n",
      "200. Mr. Smith Goes to Washington 1939 8.1\n",
      "201. Dead Poets Society 1989 8.1\n",
      "202. Monsters, Inc. 2001 8.1\n",
      "203. How to Train Your Dragon 2010 8.1\n",
      "204. Mary and Max 2009 8.1\n",
      "205. Jaws 1975 8.1\n",
      "206. The Seventh Seal 1957 8.1\n",
      "207. Room 2015 8.1\n",
      "208. The Big Lebowski 1998 8.1\n",
      "209. Tokyo Story 1953 8.1\n",
      "210. Ford v Ferrari 2019 8.1\n",
      "211. Ratatouille 2007 8.1\n",
      "212. Hotel Rwanda 2004 8.1\n",
      "213. The Passion of Joan of Arc 1928 8.2\n",
      "214. Rocky 1976 8.1\n",
      "215. Logan 2017 8.1\n",
      "216. Platoon 1986 8.1\n",
      "217. Spotlight 2015 8.1\n",
      "218. The Terminator 1984 8.1\n",
      "219. Jai Bhim 2021 8.8\n",
      "220. Before Sunset 2004 8.1\n",
      "221. Rush 2013 8.1\n",
      "222. Network 1976 8.1\n",
      "223. Stand by Me 1986 8.1\n",
      "224. The Best Years of Our Lives 1946 8.1\n",
      "225. The Wizard of Oz 1939 8.1\n",
      "226. Into the Wild 2007 8.1\n",
      "227. La haine 1995 8.1\n",
      "228. The Exorcist 1973 8.1\n",
      "229. The Incredibles 2004 8.0\n",
      "230. Pirates of the Caribbean: The Curse of the Black Pearl 2003 8.1\n",
      "231. To Be or Not to Be 1942 8.2\n",
      "232. Groundhog Day 1993 8.0\n",
      "233. My Father and My Son 2005 8.2\n",
      "234. The Grapes of Wrath 1940 8.1\n",
      "235. Hachi: A Dog's Tale 2009 8.1\n",
      "236. The Battle of Algiers 1966 8.1\n",
      "237. The Handmaiden 2016 8.1\n",
      "238. Amores Perros 2000 8.1\n",
      "239. Pather Panchali 1955 8.2\n",
      "240. Rebecca 1940 8.1\n",
      "241. Cool Hand Luke 1967 8.1\n",
      "242. The Sound of Music 1965 8.1\n",
      "243. It Happened One Night 1934 8.1\n",
      "244. The 400 Blows 1959 8.1\n",
      "245. The Iron Giant 1999 8.1\n",
      "246. The Help 2011 8.1\n",
      "247. Persona 1966 8.1\n",
      "248. Life of Brian 1979 8.0\n",
      "249. Aladdin 1992 8.0\n",
      "250. Dances with Wolves 1990 8.0\n"
     ]
    }
   ],
   "source": [
    "#For all the 250 Ranks\n",
    "\n",
    "for movie in movies:\n",
    "    \n",
    "    name=movie.find('h3',class_='ipc-title__text').text\n",
    "    \n",
    "    year=movie.find('span',class_='sc-14dd939d-6 kHVqMR cli-title-metadata-item').text\n",
    "        \n",
    "    rating=movie.find('span',class_='ipc-rating-star ipc-rating-star--base ipc-rating-star--imdb ratingGroup--imdb-rating').text\n",
    "    \n",
    "    print (name, year, rating)\n",
    "    \n",
    "    sheet.append([name, year, rating])\n",
    "    \n",
    "    excel.save('Top 250 IMDB Movies.xlsx')"
   ]
  },
  {
   "cell_type": "code",
   "execution_count": 66,
   "id": "c1e94fc7",
   "metadata": {},
   "outputs": [
    {
     "name": "stdout",
     "output_type": "stream",
     "text": [
      "['Top IMDB Movies']\n"
     ]
    }
   ],
   "source": [
    "#Loading all the information into a CSV file\n",
    "\n",
    "excel=openpyxl.Workbook()\n",
    "sheet=excel.active\n",
    "sheet.title='Top IMDB Movies'\n",
    "print (excel.sheetnames)\n",
    "sheet.append(['Movie Name','Year of Release', 'IMDB Rating'])"
   ]
  },
  {
   "cell_type": "code",
   "execution_count": 67,
   "id": "da2feca6",
   "metadata": {},
   "outputs": [],
   "source": []
  },
  {
   "cell_type": "code",
   "execution_count": null,
   "id": "c02c4f31",
   "metadata": {},
   "outputs": [],
   "source": []
  }
 ],
 "metadata": {
  "kernelspec": {
   "display_name": "Python 3 (ipykernel)",
   "language": "python",
   "name": "python3"
  },
  "language_info": {
   "codemirror_mode": {
    "name": "ipython",
    "version": 3
   },
   "file_extension": ".py",
   "mimetype": "text/x-python",
   "name": "python",
   "nbconvert_exporter": "python",
   "pygments_lexer": "ipython3",
   "version": "3.11.3"
  }
 },
 "nbformat": 4,
 "nbformat_minor": 5
}
